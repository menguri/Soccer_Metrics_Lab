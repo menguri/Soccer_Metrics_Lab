{
 "cells": [
  {
   "cell_type": "code",
   "execution_count": 1,
   "metadata": {
    "execution": {
     "iopub.execute_input": "2023-12-30T16:23:36.163766Z",
     "iopub.status.busy": "2023-12-30T16:23:36.162562Z",
     "iopub.status.idle": "2023-12-30T16:23:36.557201Z",
     "shell.execute_reply": "2023-12-30T16:23:36.556496Z"
    }
   },
   "outputs": [],
   "source": [
    "import os\n",
    "import warnings\n",
    "import tqdm\n",
    "import pandas as pd\n",
    "warnings.simplefilter(action='ignore', category=pd.errors.PerformanceWarning)"
   ]
  },
  {
   "cell_type": "code",
   "execution_count": 2,
   "metadata": {
    "execution": {
     "iopub.execute_input": "2023-12-30T16:23:36.559799Z",
     "iopub.status.busy": "2023-12-30T16:23:36.559525Z",
     "iopub.status.idle": "2023-12-30T16:23:37.292812Z",
     "shell.execute_reply": "2023-12-30T16:23:37.292243Z"
    }
   },
   "outputs": [],
   "source": [
    "%load_ext autoreload\n",
    "%autoreload 2\n",
    "import socceraction.spadl as spadl\n",
    "import socceraction.vaep.formula as vaepformula"
   ]
  },
  {
   "cell_type": "markdown",
   "metadata": {},
   "source": [
    "## Select data"
   ]
  },
  {
   "cell_type": "code",
   "execution_count": 6,
   "metadata": {
    "execution": {
     "iopub.execute_input": "2023-12-30T16:23:37.295775Z",
     "iopub.status.busy": "2023-12-30T16:23:37.295465Z",
     "iopub.status.idle": "2023-12-30T16:23:37.317226Z",
     "shell.execute_reply": "2023-12-30T16:23:37.316627Z"
    }
   },
   "outputs": [],
   "source": [
    "# Configure file and folder names\n",
    "main_folder = os.path.dirname(os.path.dirname(os.getcwd()))\n",
    "datafolder = main_folder + \"/data-fifa\"\n",
    "spadl_h5 = os.path.join(datafolder, \"spadl-statsbomb.h5\")\n",
    "predictions_h5 = os.path.join(datafolder, \"predictions.h5\")"
   ]
  },
  {
   "cell_type": "code",
   "execution_count": 8,
   "metadata": {
    "execution": {
     "iopub.execute_input": "2023-12-30T16:23:37.320151Z",
     "iopub.status.busy": "2023-12-30T16:23:37.319991Z",
     "iopub.status.idle": "2023-12-30T16:23:38.698816Z",
     "shell.execute_reply": "2023-12-30T16:23:38.698224Z"
    }
   },
   "outputs": [
    {
     "name": "stdout",
     "output_type": "stream",
     "text": [
      "nb of games: 64\n"
     ]
    }
   ],
   "source": [
    "with pd.HDFStore(spadl_h5) as spadlstore:\n",
    "    games = (\n",
    "        spadlstore[\"games\"]\n",
    "        .merge(spadlstore[\"competitions\"], how='left')\n",
    "        .merge(spadlstore[\"teams\"].add_prefix('home_'), how='left')\n",
    "        .merge(spadlstore[\"teams\"].add_prefix('away_'), how='left'))\n",
    "    players = spadlstore[\"players\"]\n",
    "    teams = spadlstore[\"teams\"]\n",
    "print(\"nb of games:\", len(games))"
   ]
  },
  {
   "cell_type": "markdown",
   "metadata": {},
   "source": [
    "## Compute VAEP values"
   ]
  },
  {
   "cell_type": "code",
   "execution_count": 7,
   "metadata": {
    "execution": {
     "iopub.execute_input": "2023-12-30T16:23:38.701779Z",
     "iopub.status.busy": "2023-12-30T16:23:38.701602Z",
     "iopub.status.idle": "2023-12-30T16:23:42.801373Z",
     "shell.execute_reply": "2023-12-30T16:23:42.800823Z"
    }
   },
   "outputs": [
    {
     "name": "stderr",
     "output_type": "stream",
     "text": [
      "Rating actions: 100%|████████████████████████████████████████████████████████████████████████████████| 64/64 [00:20<00:00,  3.10it/s]\n"
     ]
    },
    {
     "data": {
      "text/plain": [
       "Index(['game_id', 'original_event_id', 'period_id', 'time_seconds', 'team_id',\n",
       "       'player_id', 'start_x', 'start_y', 'end_x', 'end_y', 'type_id',\n",
       "       'result_id', 'bodypart_id', 'action_id', 'type_name', 'result_name',\n",
       "       'bodypart_name', 'player_name', 'nickname', 'team_name', 'scores',\n",
       "       'concedes', 'offensive_value', 'defensive_value', 'vaep_value'],\n",
       "      dtype='object')"
      ]
     },
     "execution_count": 7,
     "metadata": {},
     "output_type": "execute_result"
    }
   ],
   "source": [
    "A = []\n",
    "for game in tqdm.tqdm(list(games.itertuples()), desc=\"Rating actions\"):\n",
    "    actions = pd.read_hdf(spadl_h5, f\"actions/game_{game.game_id}\")\n",
    "    actions = (\n",
    "        spadl.add_names(actions)\n",
    "        .merge(players, how=\"left\")\n",
    "        .merge(teams, how=\"left\")\n",
    "        .sort_values([\"game_id\", \"period_id\", \"action_id\"])\n",
    "        .reset_index(drop=True)\n",
    "    )\n",
    "    preds = pd.read_hdf(predictions_h5, f\"game_{game.game_id}\")\n",
    "    values = vaepformula.value(actions, preds.scores, preds.concedes)\n",
    "    A.append(pd.concat([actions, preds, values], axis=1))\n",
    "A = pd.concat(A).sort_values([\"game_id\", \"period_id\", \"time_seconds\"]).reset_index(drop=True)\n",
    "A.columns"
   ]
  },
  {
   "cell_type": "markdown",
   "metadata": {},
   "source": [
    "## Analyse VAEP ratings\n",
    "### Most valuable players"
   ]
  },
  {
   "cell_type": "code",
   "execution_count": 8,
   "metadata": {
    "execution": {
     "iopub.execute_input": "2023-12-30T16:23:42.803329Z",
     "iopub.status.busy": "2023-12-30T16:23:42.803141Z",
     "iopub.status.idle": "2023-12-30T16:23:42.851061Z",
     "shell.execute_reply": "2023-12-30T16:23:42.850506Z"
    }
   },
   "outputs": [
    {
     "data": {
      "text/html": [
       "<div>\n",
       "<style scoped>\n",
       "    .dataframe tbody tr th:only-of-type {\n",
       "        vertical-align: middle;\n",
       "    }\n",
       "\n",
       "    .dataframe tbody tr th {\n",
       "        vertical-align: top;\n",
       "    }\n",
       "\n",
       "    .dataframe thead th {\n",
       "        text-align: right;\n",
       "    }\n",
       "</style>\n",
       "<table border=\"1\" class=\"dataframe\">\n",
       "  <thead>\n",
       "    <tr style=\"text-align: right;\">\n",
       "      <th></th>\n",
       "      <th>player_id</th>\n",
       "      <th>player_name</th>\n",
       "      <th>vaep_value</th>\n",
       "      <th>offensive_value</th>\n",
       "      <th>defensive_value</th>\n",
       "      <th>count</th>\n",
       "    </tr>\n",
       "  </thead>\n",
       "  <tbody>\n",
       "    <tr>\n",
       "      <th>92</th>\n",
       "      <td>3621.0</td>\n",
       "      <td>Eden Hazard</td>\n",
       "      <td>3.079244</td>\n",
       "      <td>3.390954</td>\n",
       "      <td>-0.311710</td>\n",
       "      <td>687</td>\n",
       "    </tr>\n",
       "    <tr>\n",
       "      <th>152</th>\n",
       "      <td>5186.0</td>\n",
       "      <td>Denis Cheryshev</td>\n",
       "      <td>3.048902</td>\n",
       "      <td>3.771666</td>\n",
       "      <td>-0.722765</td>\n",
       "      <td>213</td>\n",
       "    </tr>\n",
       "    <tr>\n",
       "      <th>6</th>\n",
       "      <td>3009.0</td>\n",
       "      <td>Kylian Mbappé</td>\n",
       "      <td>2.949428</td>\n",
       "      <td>3.219361</td>\n",
       "      <td>-0.269934</td>\n",
       "      <td>489</td>\n",
       "    </tr>\n",
       "    <tr>\n",
       "      <th>71</th>\n",
       "      <td>3501.0</td>\n",
       "      <td>Philippe Coutinho</td>\n",
       "      <td>2.760361</td>\n",
       "      <td>2.727498</td>\n",
       "      <td>0.032863</td>\n",
       "      <td>696</td>\n",
       "    </tr>\n",
       "    <tr>\n",
       "      <th>352</th>\n",
       "      <td>5574.0</td>\n",
       "      <td>Toni Kroos</td>\n",
       "      <td>2.747693</td>\n",
       "      <td>2.826210</td>\n",
       "      <td>-0.078517</td>\n",
       "      <td>641</td>\n",
       "    </tr>\n",
       "    <tr>\n",
       "      <th>50</th>\n",
       "      <td>3308.0</td>\n",
       "      <td>Kieran Trippier</td>\n",
       "      <td>2.701755</td>\n",
       "      <td>3.266832</td>\n",
       "      <td>-0.565076</td>\n",
       "      <td>684</td>\n",
       "    </tr>\n",
       "    <tr>\n",
       "      <th>17</th>\n",
       "      <td>3089.0</td>\n",
       "      <td>Kevin De Bruyne</td>\n",
       "      <td>2.688326</td>\n",
       "      <td>3.196822</td>\n",
       "      <td>-0.508495</td>\n",
       "      <td>714</td>\n",
       "    </tr>\n",
       "    <tr>\n",
       "      <th>599</th>\n",
       "      <td>20004.0</td>\n",
       "      <td>Paul Pogba</td>\n",
       "      <td>2.684919</td>\n",
       "      <td>2.755724</td>\n",
       "      <td>-0.070805</td>\n",
       "      <td>673</td>\n",
       "    </tr>\n",
       "    <tr>\n",
       "      <th>121</th>\n",
       "      <td>4319.0</td>\n",
       "      <td>Edinson Cavani</td>\n",
       "      <td>2.533961</td>\n",
       "      <td>2.652842</td>\n",
       "      <td>-0.118881</td>\n",
       "      <td>224</td>\n",
       "    </tr>\n",
       "    <tr>\n",
       "      <th>36</th>\n",
       "      <td>3244.0</td>\n",
       "      <td>John Stones</td>\n",
       "      <td>2.483829</td>\n",
       "      <td>2.318821</td>\n",
       "      <td>0.165008</td>\n",
       "      <td>934</td>\n",
       "    </tr>\n",
       "  </tbody>\n",
       "</table>\n",
       "</div>"
      ],
      "text/plain": [
       "     player_id        player_name  vaep_value  offensive_value  \\\n",
       "92      3621.0        Eden Hazard    3.079244         3.390954   \n",
       "152     5186.0    Denis Cheryshev    3.048902         3.771666   \n",
       "6       3009.0      Kylian Mbappé    2.949428         3.219361   \n",
       "71      3501.0  Philippe Coutinho    2.760361         2.727498   \n",
       "352     5574.0         Toni Kroos    2.747693         2.826210   \n",
       "50      3308.0    Kieran Trippier    2.701755         3.266832   \n",
       "17      3089.0    Kevin De Bruyne    2.688326         3.196822   \n",
       "599    20004.0         Paul Pogba    2.684919         2.755724   \n",
       "121     4319.0     Edinson Cavani    2.533961         2.652842   \n",
       "36      3244.0        John Stones    2.483829         2.318821   \n",
       "\n",
       "     defensive_value  count  \n",
       "92         -0.311710    687  \n",
       "152        -0.722765    213  \n",
       "6          -0.269934    489  \n",
       "71          0.032863    696  \n",
       "352        -0.078517    641  \n",
       "50         -0.565076    684  \n",
       "17         -0.508495    714  \n",
       "599        -0.070805    673  \n",
       "121        -0.118881    224  \n",
       "36          0.165008    934  "
      ]
     },
     "execution_count": 8,
     "metadata": {},
     "output_type": "execute_result"
    }
   ],
   "source": [
    "A[\"count\"] = 1\n",
    "\n",
    "# Compute each player's number of actions and total VAEP values\n",
    "playersR = (\n",
    "    A[[\"player_id\", \"vaep_value\", \"offensive_value\", \"defensive_value\", \"count\"]]\n",
    "    .groupby([\"player_id\"])\n",
    "    .sum()\n",
    "    .reset_index()\n",
    ")\n",
    "# Add player names\n",
    "playersR = playersR.merge(players[[\"player_id\", \"nickname\", \"player_name\"]], how=\"left\")\n",
    "playersR[\"player_name\"] = playersR[[\"nickname\",\"player_name\"]].apply(lambda x: x.iloc[0] if x.iloc[0] else x.iloc[1], axis=1)\n",
    "# Show results\n",
    "playersR = playersR[[\"player_id\", \"player_name\", \"vaep_value\", \"offensive_value\", \"defensive_value\", \"count\"]]\n",
    "playersR.sort_values(\"vaep_value\", ascending=False)[:10]"
   ]
  },
  {
   "cell_type": "code",
   "execution_count": 9,
   "metadata": {
    "execution": {
     "iopub.execute_input": "2023-12-30T16:23:42.853581Z",
     "iopub.status.busy": "2023-12-30T16:23:42.853426Z",
     "iopub.status.idle": "2023-12-30T16:23:42.918450Z",
     "shell.execute_reply": "2023-12-30T16:23:42.917923Z"
    }
   },
   "outputs": [
    {
     "data": {
      "text/html": [
       "<div>\n",
       "<style scoped>\n",
       "    .dataframe tbody tr th:only-of-type {\n",
       "        vertical-align: middle;\n",
       "    }\n",
       "\n",
       "    .dataframe tbody tr th {\n",
       "        vertical-align: top;\n",
       "    }\n",
       "\n",
       "    .dataframe thead th {\n",
       "        text-align: right;\n",
       "    }\n",
       "</style>\n",
       "<table border=\"1\" class=\"dataframe\">\n",
       "  <thead>\n",
       "    <tr style=\"text-align: right;\">\n",
       "      <th></th>\n",
       "      <th>player_id</th>\n",
       "      <th>player_name</th>\n",
       "      <th>vaep_value</th>\n",
       "      <th>offensive_value</th>\n",
       "      <th>defensive_value</th>\n",
       "      <th>count</th>\n",
       "      <th>minutes_played</th>\n",
       "      <th>vaep_rating</th>\n",
       "      <th>offensive_rating</th>\n",
       "      <th>defensive_rating</th>\n",
       "    </tr>\n",
       "  </thead>\n",
       "  <tbody>\n",
       "    <tr>\n",
       "      <th>152</th>\n",
       "      <td>5186.0</td>\n",
       "      <td>Denis Cheryshev</td>\n",
       "      <td>3.048902</td>\n",
       "      <td>3.771666</td>\n",
       "      <td>-0.722765</td>\n",
       "      <td>213</td>\n",
       "      <td>317</td>\n",
       "      <td>0.865619</td>\n",
       "      <td>1.070820</td>\n",
       "      <td>-0.205201</td>\n",
       "    </tr>\n",
       "    <tr>\n",
       "      <th>352</th>\n",
       "      <td>5574.0</td>\n",
       "      <td>Toni Kroos</td>\n",
       "      <td>2.747693</td>\n",
       "      <td>2.826210</td>\n",
       "      <td>-0.078517</td>\n",
       "      <td>641</td>\n",
       "      <td>295</td>\n",
       "      <td>0.838279</td>\n",
       "      <td>0.862234</td>\n",
       "      <td>-0.023954</td>\n",
       "    </tr>\n",
       "    <tr>\n",
       "      <th>251</th>\n",
       "      <td>5473.0</td>\n",
       "      <td>Ahmed Musa</td>\n",
       "      <td>1.794901</td>\n",
       "      <td>1.842830</td>\n",
       "      <td>-0.047929</td>\n",
       "      <td>161</td>\n",
       "      <td>224</td>\n",
       "      <td>0.721165</td>\n",
       "      <td>0.740423</td>\n",
       "      <td>-0.019257</td>\n",
       "    </tr>\n",
       "    <tr>\n",
       "      <th>121</th>\n",
       "      <td>4319.0</td>\n",
       "      <td>Edinson Cavani</td>\n",
       "      <td>2.533961</td>\n",
       "      <td>2.652842</td>\n",
       "      <td>-0.118881</td>\n",
       "      <td>224</td>\n",
       "      <td>362</td>\n",
       "      <td>0.629990</td>\n",
       "      <td>0.659546</td>\n",
       "      <td>-0.029556</td>\n",
       "    </tr>\n",
       "    <tr>\n",
       "      <th>525</th>\n",
       "      <td>6196.0</td>\n",
       "      <td>Yerry Mina</td>\n",
       "      <td>2.461998</td>\n",
       "      <td>2.428620</td>\n",
       "      <td>0.033377</td>\n",
       "      <td>324</td>\n",
       "      <td>374</td>\n",
       "      <td>0.592459</td>\n",
       "      <td>0.584427</td>\n",
       "      <td>0.008032</td>\n",
       "    </tr>\n",
       "    <tr>\n",
       "      <th>451</th>\n",
       "      <td>5674.0</td>\n",
       "      <td>Moussa Wagué</td>\n",
       "      <td>1.585941</td>\n",
       "      <td>1.584486</td>\n",
       "      <td>0.001455</td>\n",
       "      <td>169</td>\n",
       "      <td>257</td>\n",
       "      <td>0.555388</td>\n",
       "      <td>0.554878</td>\n",
       "      <td>0.000509</td>\n",
       "    </tr>\n",
       "    <tr>\n",
       "      <th>71</th>\n",
       "      <td>3501.0</td>\n",
       "      <td>Philippe Coutinho</td>\n",
       "      <td>2.760361</td>\n",
       "      <td>2.727498</td>\n",
       "      <td>0.032863</td>\n",
       "      <td>696</td>\n",
       "      <td>458</td>\n",
       "      <td>0.542429</td>\n",
       "      <td>0.535971</td>\n",
       "      <td>0.006458</td>\n",
       "    </tr>\n",
       "    <tr>\n",
       "      <th>16</th>\n",
       "      <td>3083.0</td>\n",
       "      <td>Son Heung-Min</td>\n",
       "      <td>1.701298</td>\n",
       "      <td>1.787061</td>\n",
       "      <td>-0.085764</td>\n",
       "      <td>227</td>\n",
       "      <td>294</td>\n",
       "      <td>0.520805</td>\n",
       "      <td>0.547060</td>\n",
       "      <td>-0.026254</td>\n",
       "    </tr>\n",
       "    <tr>\n",
       "      <th>75</th>\n",
       "      <td>3531.0</td>\n",
       "      <td>Mohamed Salah</td>\n",
       "      <td>1.127095</td>\n",
       "      <td>1.312928</td>\n",
       "      <td>-0.185834</td>\n",
       "      <td>121</td>\n",
       "      <td>195</td>\n",
       "      <td>0.520198</td>\n",
       "      <td>0.605967</td>\n",
       "      <td>-0.085769</td>\n",
       "    </tr>\n",
       "    <tr>\n",
       "      <th>92</th>\n",
       "      <td>3621.0</td>\n",
       "      <td>Eden Hazard</td>\n",
       "      <td>3.079244</td>\n",
       "      <td>3.390954</td>\n",
       "      <td>-0.311710</td>\n",
       "      <td>687</td>\n",
       "      <td>551</td>\n",
       "      <td>0.502962</td>\n",
       "      <td>0.553876</td>\n",
       "      <td>-0.050915</td>\n",
       "    </tr>\n",
       "  </tbody>\n",
       "</table>\n",
       "</div>"
      ],
      "text/plain": [
       "     player_id        player_name  vaep_value  offensive_value  \\\n",
       "152     5186.0    Denis Cheryshev    3.048902         3.771666   \n",
       "352     5574.0         Toni Kroos    2.747693         2.826210   \n",
       "251     5473.0         Ahmed Musa    1.794901         1.842830   \n",
       "121     4319.0     Edinson Cavani    2.533961         2.652842   \n",
       "525     6196.0         Yerry Mina    2.461998         2.428620   \n",
       "451     5674.0       Moussa Wagué    1.585941         1.584486   \n",
       "71      3501.0  Philippe Coutinho    2.760361         2.727498   \n",
       "16      3083.0      Son Heung-Min    1.701298         1.787061   \n",
       "75      3531.0      Mohamed Salah    1.127095         1.312928   \n",
       "92      3621.0        Eden Hazard    3.079244         3.390954   \n",
       "\n",
       "     defensive_value  count  minutes_played  vaep_rating  offensive_rating  \\\n",
       "152        -0.722765    213             317     0.865619          1.070820   \n",
       "352        -0.078517    641             295     0.838279          0.862234   \n",
       "251        -0.047929    161             224     0.721165          0.740423   \n",
       "121        -0.118881    224             362     0.629990          0.659546   \n",
       "525         0.033377    324             374     0.592459          0.584427   \n",
       "451         0.001455    169             257     0.555388          0.554878   \n",
       "71          0.032863    696             458     0.542429          0.535971   \n",
       "16         -0.085764    227             294     0.520805          0.547060   \n",
       "75         -0.185834    121             195     0.520198          0.605967   \n",
       "92         -0.311710    687             551     0.502962          0.553876   \n",
       "\n",
       "     defensive_rating  \n",
       "152         -0.205201  \n",
       "352         -0.023954  \n",
       "251         -0.019257  \n",
       "121         -0.029556  \n",
       "525          0.008032  \n",
       "451          0.000509  \n",
       "71           0.006458  \n",
       "16          -0.026254  \n",
       "75          -0.085769  \n",
       "92          -0.050915  "
      ]
     },
     "execution_count": 9,
     "metadata": {},
     "output_type": "execute_result"
    }
   ],
   "source": [
    "# Normalize for minutes played\n",
    "pg = pd.read_hdf(spadl_h5, \"player_games\")\n",
    "pg = pg[pg.game_id.isin(games.game_id)]\n",
    "mp = pg[[\"player_id\", \"minutes_played\"]].groupby(\"player_id\").sum().reset_index()\n",
    "\n",
    "stats = playersR.merge(mp)\n",
    "stats = stats[stats.minutes_played > 180] # at least two full games played\n",
    "stats[\"vaep_rating\"] = stats.vaep_value * 90 / stats.minutes_played\n",
    "stats[\"offensive_rating\"] = stats.offensive_value * 90 / stats.minutes_played\n",
    "stats[\"defensive_rating\"] = stats.defensive_value * 90 / stats.minutes_played\n",
    "stats.sort_values(\"vaep_rating\",ascending=False)[:10]"
   ]
  },
  {
   "cell_type": "markdown",
   "metadata": {},
   "source": [
    "### (optional) inspect Belgium's top 10 most valuable non-shot actions"
   ]
  },
  {
   "cell_type": "code",
   "execution_count": 10,
   "metadata": {
    "execution": {
     "iopub.execute_input": "2023-12-30T16:23:42.921038Z",
     "iopub.status.busy": "2023-12-30T16:23:42.920878Z",
     "iopub.status.idle": "2023-12-30T16:23:44.758467Z",
     "shell.execute_reply": "2023-12-30T16:23:44.757877Z"
    }
   },
   "outputs": [
    {
     "ename": "ModuleNotFoundError",
     "evalue": "No module named 'matplotlib'",
     "output_type": "error",
     "traceback": [
      "\u001b[0;31m---------------------------------------------------------------------------\u001b[0m",
      "\u001b[0;31mModuleNotFoundError\u001b[0m                       Traceback (most recent call last)",
      "Cell \u001b[0;32mIn[10], line 1\u001b[0m\n\u001b[0;32m----> 1\u001b[0m \u001b[38;5;28;01mimport\u001b[39;00m \u001b[38;5;21;01mmatplotsoccer\u001b[39;00m\n\u001b[1;32m      3\u001b[0m sorted_A \u001b[38;5;241m=\u001b[39m A\u001b[38;5;241m.\u001b[39msort_values(\u001b[38;5;124m\"\u001b[39m\u001b[38;5;124mvaep_value\u001b[39m\u001b[38;5;124m\"\u001b[39m, ascending\u001b[38;5;241m=\u001b[39m\u001b[38;5;28;01mFalse\u001b[39;00m)\n\u001b[1;32m      4\u001b[0m sorted_A \u001b[38;5;241m=\u001b[39m sorted_A[sorted_A\u001b[38;5;241m.\u001b[39mteam_name \u001b[38;5;241m==\u001b[39m \u001b[38;5;124m\"\u001b[39m\u001b[38;5;124mBelgium\u001b[39m\u001b[38;5;124m\"\u001b[39m] \u001b[38;5;66;03m# view only actions from Belgium\u001b[39;00m\n",
      "File \u001b[0;32m~/anaconda3/envs/CIDA/lib/python3.12/site-packages/matplotsoccer/__init__.py:1\u001b[0m\n\u001b[0;32m----> 1\u001b[0m \u001b[38;5;28;01mfrom\u001b[39;00m \u001b[38;5;21;01mmatplotsoccer\u001b[39;00m\u001b[38;5;21;01m.\u001b[39;00m\u001b[38;5;21;01mfns\u001b[39;00m \u001b[38;5;28;01mimport\u001b[39;00m (\n\u001b[1;32m      2\u001b[0m     spadl_config, field, heatmap, heatmap_green, actions, count,\n\u001b[1;32m      3\u001b[0m )\n",
      "File \u001b[0;32m~/anaconda3/envs/CIDA/lib/python3.12/site-packages/matplotsoccer/fns.py:1\u001b[0m\n\u001b[0;32m----> 1\u001b[0m \u001b[38;5;28;01mimport\u001b[39;00m \u001b[38;5;21;01mmatplotlib\u001b[39;00m\u001b[38;5;21;01m.\u001b[39;00m\u001b[38;5;21;01mpyplot\u001b[39;00m \u001b[38;5;28;01mas\u001b[39;00m \u001b[38;5;21;01mplt\u001b[39;00m\n\u001b[1;32m      2\u001b[0m \u001b[38;5;28;01mfrom\u001b[39;00m \u001b[38;5;21;01mmatplotlib\u001b[39;00m\u001b[38;5;21;01m.\u001b[39;00m\u001b[38;5;21;01mpatches\u001b[39;00m \u001b[38;5;28;01mimport\u001b[39;00m Arc\n\u001b[1;32m      3\u001b[0m \u001b[38;5;28;01mimport\u001b[39;00m \u001b[38;5;21;01mnumpy\u001b[39;00m \u001b[38;5;28;01mas\u001b[39;00m \u001b[38;5;21;01mnp\u001b[39;00m\n",
      "\u001b[0;31mModuleNotFoundError\u001b[0m: No module named 'matplotlib'"
     ]
    }
   ],
   "source": [
    "import matplotsoccer\n",
    "\n",
    "sorted_A = A.sort_values(\"vaep_value\", ascending=False)\n",
    "sorted_A = sorted_A[sorted_A.team_name == \"Belgium\"] # view only actions from Belgium\n",
    "sorted_A = sorted_A[~sorted_A.type_name.str.contains(\"shot\")] #eliminate shots\n",
    "\n",
    "def get_time(period_id,time_seconds):\n",
    "    m = int((period_id-1)*45 + time_seconds // 60)\n",
    "    s = int(time_seconds % 60)\n",
    "    return f\"{m}m{s}s\"\n",
    "\n",
    "for j in range(0, 10):\n",
    "    row = list(sorted_A[j:j+1].itertuples())[0]\n",
    "    i = row.Index\n",
    "    a = A[i - 3 : i+2].copy()\n",
    "    \n",
    "    a[\"player_name\"] = a[[\"nickname\", \"player_name\"]].apply(lambda x: x.iloc[0] if x.iloc[0] else x.iloc[1], axis=1)\n",
    "    \n",
    "    g = list(games[games.game_id == a.game_id.values[0]].itertuples())[0]\n",
    "    game_info = f\"{g.game_date} {g.home_team_name} {g.home_score}-{g.away_score} {g.away_team_name}\"\n",
    "    minute = int((row.period_id-1)*45 + row.time_seconds // 60)\n",
    "    print(f\"{game_info} {minute}' {row.type_name} {row.player_name}\")\n",
    "\n",
    "    a[\"scores\"] = a.scores.apply(lambda x : \"%.3f\" % x )\n",
    "    a[\"vaep_value\"] = a.vaep_value.apply(lambda x : \"%.3f\" % x )\n",
    "    a[\"time\"] = a[[\"period_id\", \"time_seconds\"]].apply(lambda x: get_time(*x),axis=1)\n",
    "    cols = [\"time\", \"type_name\", \"player_name\", \"team_name\", \"scores\", \"vaep_value\"]\n",
    "    matplotsoccer.actions(a[[\"start_x\", \"start_y\", \"end_x\",  \"end_y\"]],\n",
    "                a.type_name,\n",
    "                team=a.team_name,\n",
    "                result = a.result_name == \"success\",\n",
    "                label=a[cols],\n",
    "                labeltitle = cols,\n",
    "                zoom=False)"
   ]
  }
 ],
 "metadata": {
  "kernelspec": {
   "display_name": "CIDA",
   "language": "python",
   "name": "python3"
  },
  "language_info": {
   "codemirror_mode": {
    "name": "ipython",
    "version": 3
   },
   "file_extension": ".py",
   "mimetype": "text/x-python",
   "name": "python",
   "nbconvert_exporter": "python",
   "pygments_lexer": "ipython3",
   "version": "3.12.4"
  },
  "toc": {
   "base_numbering": 1,
   "nav_menu": {},
   "number_sections": true,
   "sideBar": true,
   "skip_h1_title": false,
   "title_cell": "Table of Contents",
   "title_sidebar": "Contents",
   "toc_cell": false,
   "toc_position": {},
   "toc_section_display": true,
   "toc_window_display": true
  },
  "varInspector": {
   "cols": {
    "lenName": 16,
    "lenType": 16,
    "lenVar": 40
   },
   "kernels_config": {
    "python": {
     "delete_cmd_postfix": "",
     "delete_cmd_prefix": "del ",
     "library": "var_list.py",
     "varRefreshCmd": "print(var_dic_list())"
    },
    "r": {
     "delete_cmd_postfix": ") ",
     "delete_cmd_prefix": "rm(",
     "library": "var_list.r",
     "varRefreshCmd": "cat(var_dic_list()) "
    }
   },
   "types_to_exclude": [
    "module",
    "function",
    "builtin_function_or_method",
    "instance",
    "_Feature"
   ],
   "window_display": false
  }
 },
 "nbformat": 4,
 "nbformat_minor": 4
}
